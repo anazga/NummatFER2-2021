{
 "cells": [
  {
   "cell_type": "markdown",
   "metadata": {},
   "source": [
    "# Pogreške u numeričkom računanju"
   ]
  },
  {
   "cell_type": "code",
   "execution_count": 1,
   "metadata": {},
   "outputs": [
    {
     "data": {
      "image/jpeg": "[encoded data removed]",
      "text/html": [
       "\n",
       "        <iframe\n",
       "            width=\"400\"\n",
       "            height=\"300\"\n",
       "            src=\"https://www.youtube.com/embed/op-C-ArVP5o\"\n",
       "            frameborder=\"0\"\n",
       "            allowfullscreen\n",
       "        ></iframe>\n",
       "        "
      ],
      "text/plain": [
       "<IPython.lib.display.YouTubeVideo at 0x1b68a898cc0>"
      ]
     },
     "metadata": {},
     "output_type": "display_data"
    }
   ],
   "source": [
    "from IPython.lib.display import YouTubeVideo\n",
    "vid = YouTubeVideo(\"op-C-ArVP5o\")\n",
    "display(vid)"
   ]
  },
  {
   "cell_type": "markdown",
   "metadata": {},
   "source": [
    "# Prikaz realnih brojeva u računalu"
   ]
  },
  {
   "cell_type": "code",
   "execution_count": 2,
   "metadata": {},
   "outputs": [
    {
     "data": {
      "text/html": [
       "\n",
       "        <iframe\n",
       "            width=\"400\"\n",
       "            height=\"300\"\n",
       "            src=\"https://www.youtube.com/embed/2CdZyd96FP0 \"\n",
       "            frameborder=\"0\"\n",
       "            allowfullscreen\n",
       "        ></iframe>\n",
       "        "
      ],
      "text/plain": [
       "<IPython.lib.display.YouTubeVideo at 0x1b68a898c18>"
      ]
     },
     "metadata": {},
     "output_type": "display_data"
    }
   ],
   "source": [
    "from IPython.lib.display import YouTubeVideo\n",
    "vid = YouTubeVideo(\"2CdZyd96FP0 \")\n",
    "display(vid)"
   ]
  },
  {
   "cell_type": "markdown",
   "metadata": {},
   "source": [
    "Sada ćemo dati uvid kako možemo dobiti posebne vrijednosti \"inf\" i \"nan\" u sklopu ove Jupyter bilježnice koja koristi Python i njegove bibilioteke. Za ponašanje u MATLABU rečeno je u video predavanju. Također, pogledajte skriptu objavljenu za ovaj tjedan!\n",
    "\n",
    "Kako dobivamo primjerice najveći prikaziv fp broj dvostruke preciznosti?"
   ]
  },
  {
   "cell_type": "code",
   "execution_count": 3,
   "metadata": {},
   "outputs": [
    {
     "data": {
      "text/plain": [
       "1.7976931348623157e+308"
      ]
     },
     "execution_count": 3,
     "metadata": {},
     "output_type": "execute_result"
    }
   ],
   "source": [
    "import sys\n",
    "import numpy as np\n",
    "sys.float_info.max"
   ]
  },
  {
   "cell_type": "markdown",
   "metadata": {},
   "source": [
    "Primjeri kako u sklopu osnovnih aritmetičkih operacija možemo dobiti \"inf\" i \"nan\""
   ]
  },
  {
   "cell_type": "code",
   "execution_count": 4,
   "metadata": {},
   "outputs": [
    {
     "name": "stdout",
     "output_type": "stream",
     "text": [
      "Addition :  inf\n",
      "Subtraction :  inf\n",
      "Multiplication :  inf\n",
      "Division :  inf\n",
      "\n",
      "Multiplication by Zero:  nan\n",
      "a= inf\n"
     ]
    },
    {
     "ename": "ZeroDivisionError",
     "evalue": "float division by zero",
     "output_type": "error",
     "traceback": [
      "\u001b[1;31m---------------------------------------------------------------------------\u001b[0m",
      "\u001b[1;31mZeroDivisionError\u001b[0m                         Traceback (most recent call last)",
      "\u001b[1;32m<ipython-input-4-c4b55856d307>\u001b[0m in \u001b[0;36m<module>\u001b[1;34m()\u001b[0m\n\u001b[0;32m     17\u001b[0m \u001b[1;31m#b=2.0**(2000)\u001b[0m\u001b[1;33m\u001b[0m\u001b[1;33m\u001b[0m\u001b[0m\n\u001b[0;32m     18\u001b[0m \u001b[1;31m#print(b)\u001b[0m\u001b[1;33m\u001b[0m\u001b[1;33m\u001b[0m\u001b[0m\n\u001b[1;32m---> 19\u001b[1;33m \u001b[1;36m1\u001b[0m\u001b[1;33m/\u001b[0m\u001b[1;36m0.0\u001b[0m\u001b[1;33m\u001b[0m\u001b[0m\n\u001b[0m",
      "\u001b[1;31mZeroDivisionError\u001b[0m: float division by zero"
     ]
    }
   ],
   "source": [
    "a = float('inf')\n",
    "\n",
    "print('Addition : ',a + 10)\n",
    "print('Subtraction : ',a - 10)\n",
    "print('Multiplication : ',a * 10)\n",
    "print('Division : ',a / 10)\n",
    "\n",
    "print('\\nMultiplication by Zero: ',a * 0)\n",
    "\n",
    "#with np.errstate(divide = 'ignore'):\n",
    "#    b=1.0/0.0    \n",
    "#print(b)\n",
    "\n",
    "a=0.2e2000\n",
    "print(\"a=\",a)\n",
    "\n",
    "#b=2.0**(2000)\n",
    "#print(b)\n",
    "1/0.0"
   ]
  },
  {
   "cell_type": "markdown",
   "metadata": {},
   "source": [
    "MATLAB je nastao kao sučelje za bazične biblioteke za linearnu algebru (BLAS). Ponašanje jednako MATLABu može se konfigurirati promjenom postavke errstate u biblioteci numpy."
   ]
  },
  {
   "cell_type": "code",
   "execution_count": 5,
   "metadata": {},
   "outputs": [
    {
     "data": {
      "text/plain": [
       "array([nan, inf, inf])"
      ]
     },
     "execution_count": 5,
     "metadata": {},
     "output_type": "execute_result"
    }
   ],
   "source": [
    "from collections import OrderedDict\n",
    "olderr = np.seterr(all='ignore')  # Set error handling to known state.\n",
    "np.arange(3) / 0."
   ]
  },
  {
   "cell_type": "markdown",
   "metadata": {},
   "source": [
    "# Pogreška nastala zbog prikaza brojeva u računalu"
   ]
  },
  {
   "cell_type": "code",
   "execution_count": 6,
   "metadata": {},
   "outputs": [
    {
     "name": "stdout",
     "output_type": "stream",
     "text": [
      "2.220446049250313e-16\n"
     ]
    }
   ],
   "source": [
    "a=4./3\n",
    "b=a-1.0\n",
    "c=3*b\n",
    "e=1-c\n",
    "print(e)"
   ]
  },
  {
   "cell_type": "markdown",
   "metadata": {},
   "source": [
    "# Zadaci\n",
    "\n",
    "Sljedećih 45 minuta rezervirano je za rješavanje ovih zadataka! Prvo ih pokušajte riješiti sami, a zatim pogledajte rješenje!\n",
    "\n",
    "**Odredite vrijednost najvećeg pozitivnog IEEE  fp-broja dvostruke preciznosti!**\n",
    "\n",
    "Rješenje. \n",
    "\n",
    "Prisjetimo se da je \n",
    "$$x=\\pm (1+f)\\times 2^e$$ gdje je\n",
    "\n",
    "$$-1022\\leq e\\leq 1023,\\quad f=\\sum_{i=1}^{52}\\beta_i\\cdot 2^{-i},\\ \\beta_i\\in\\{0,1\\}$$\n",
    "\n",
    "Prvi fp broj koji je manji od +INF je (eksponent 11 bitova, mantisa 52 bita)\n",
    "\n",
    "$$0 \\quad 11111111110 \\quad 1111111111111111111111111111\\ldots 1$$\n",
    "\n",
    "Eksponent je $e=1023$ (prvi manji od onog za INF). \n",
    "Mantisa je $1+f_{max}$ gdje je\n",
    "$$ f_{max}=1\\cdot 2^{-1}+1\\cdot 2^{-2}+1\\cdot 2^{-3}+\\ldots 1\\cdot 2^{-52}$$\n",
    "$$f_{max}=\\frac{1}{2}\\left(1+\\frac{1}{2}+\\ldots +\\frac{1}{2^{51}}\\right)=\\frac{1}{2}\\frac{1-\\left(\\frac{1}{2}\\right)^{52}}{1-\\frac{1}{2}}=1-2^{-52}$$\n",
    "Dakle, najveći fp-broj u dvostrukoj preciznosti je\n",
    "\n",
    "$$(1+f_{max})\\times 2^{1023}=(1+1-2^{-52})\\times 2^{1023}=2^{1024}-2^{971}\\approx 1.797693\\cdot 10^{308}$$"
   ]
  },
  {
   "cell_type": "markdown",
   "metadata": {},
   "source": [
    "# Zadatak"
   ]
  },
  {
   "cell_type": "markdown",
   "metadata": {},
   "source": [
    "**Nađite vrijednost prvog fp-broja dvostruke preciznosti koji je veći od 50**\n",
    "\n",
    "**Rješenje.**\n",
    "\n",
    "Najveća potencija broja 2 za koju je $2^k<50$ je $k=5.$\n",
    "\n",
    "$$50=(1+f)\\times 2^5, f\\in [0,1\\rangle$$\n"
   ]
  },
  {
   "cell_type": "markdown",
   "metadata": {},
   "source": [
    "$$\\begin{array}{ccc} 50:2&=25\\quad & 0\\\\\n",
    "25:2&=12\\quad & 1\\\\\n",
    "12:2&=6\\quad & 0\\\\\n",
    "6:2&=3\\quad & 0\\\\\n",
    "3:2&=1\\quad & 1\\\\\n",
    "1:2&=0\\quad & 1\\end{array}$$\n",
    "Dakle prikaz broja $50$ je\n",
    "$$(110010)_2=(1.1001)_2\\times 2^{5}$$\n",
    "\n",
    "Mantisa ima 52 mjesta i oblika je\n",
    "$$100100\\ldots 00$$\n",
    "\n",
    "Prvi veći fp-broj od $50$ ima mantisu\n",
    "$$100100\\ldots 01$$\n",
    "\n",
    "Dakle traženi broj je:\n",
    "$$(1+f+2^{-52})\\times 2^{5}=(1+f)\\times 2^{5}+2^{-52+5}=50+2^{-47}$$"
   ]
  },
  {
   "cell_type": "markdown",
   "metadata": {},
   "source": [
    "# Zadatak"
   ]
  },
  {
   "cell_type": "markdown",
   "metadata": {},
   "source": [
    "**Koliko ima fp-brojeva svostruke preciznosti**\n",
    "\n",
    "**Rješenje.**\n",
    "\n",
    "Imamo \n",
    "predznak+eksponent+mantisa=1+11+52=64 bita\n",
    "\n",
    "\n",
    "$2^{64}$ moguća rasporeda nula i jedinica od čega oduzimamo:\n",
    "\n",
    "1. sve nule u eksponentu, $\\pm$: $2^{52}\\cdot 2$\n",
    "2. sve jedinice u eksponentu $\\pm$: $2^{52}\\cdot 2$\n",
    "\n",
    "Rezultat je \n",
    "$$2^{64}-2\\cdot 2^{53}=2^{64}-2^{54}$$"
   ]
  },
  {
   "cell_type": "markdown",
   "metadata": {},
   "source": [
    "# Podsjetnik: Taylorov razvoj\n",
    "Pogledajmo jedan zanimljiv primjer, kao primjer za grafički prikaz koristeći biblioteku Matplotlib\n",
    "Podsjetimo se da je Taylorov red za funkciju $\\cos x$\n",
    "$$\\cos x=\\sum_{n=0}^\\infty (-1)^n\\frac{x^{2n}}{(2n)!}$$"
   ]
  },
  {
   "cell_type": "code",
   "execution_count": 7,
   "metadata": {},
   "outputs": [
    {
     "data": {
      "image/png": "[encoded data removed]",
      "text/plain": [
       "<matplotlib.figure.Figure at 0x1b68acd4ac8>"
      ]
     },
     "metadata": {},
     "output_type": "display_data"
    }
   ],
   "source": [
    "import math\n",
    "import matplotlib.pyplot as plt\n",
    "%matplotlib inline\n",
    "\n",
    "\n",
    "def func_cos(x, n):\n",
    "    cos_approx = 0\n",
    "    for i in range(n):\n",
    "        coef = (-1)**i\n",
    "        num = x**(2*i)\n",
    "        denom = math.factorial(2*i)\n",
    "        cos_approx += ( coef ) * ( (num)/(denom) )\n",
    "    \n",
    "    return cos_approx\n",
    "\n",
    "angles = np.arange(-2*np.pi,2*np.pi,0.1)\n",
    "p_cos = np.cos(angles)\n",
    "\n",
    "fig, ax = plt.subplots()\n",
    "ax.plot(angles,p_cos)\n",
    "\n",
    "for i in range(1,6):\n",
    "    t_cos = [func_cos(angle,i) for angle in angles]\n",
    "    ax.plot(angles,t_cos)\n",
    "\n",
    "ax.set_ylim([-7,4])\n",
    "\n",
    "# set up legend\n",
    "legend_lst = ['cos() function']\n",
    "for i in range(1,6):\n",
    "    legend_lst.append(f'Taylor razvoj - {i} clanova')\n",
    "ax.legend(legend_lst, loc=3)\n",
    "\n",
    "plt.show()"
   ]
  },
  {
   "cell_type": "markdown",
   "metadata": {},
   "source": [
    "Podsjetimo se da je Taylorov red za funkciju $\\sin x$\n",
    "$$\\sin x=\\sum_{n=0}^\\infty (-1)^n\\frac{x^{2n+1}}{(2n+1)!}$$"
   ]
  },
  {
   "cell_type": "code",
   "execution_count": 8,
   "metadata": {},
   "outputs": [
    {
     "name": "stdout",
     "output_type": "stream",
     "text": [
      "n= 23\n",
      "sin(pi/2)= 1.0000000000000002\n",
      "n= 75\n",
      "sin(11pi/2)= -1.0000000002128728\n",
      "n= 121\n",
      "sin(21pi/2)= 0.9998667640418495\n",
      "n= 157\n",
      "sin(31pi/2)= -5822.01852702401\n"
     ]
    }
   ],
   "source": [
    "import math\n",
    "import numpy as np\n",
    "\n",
    "def func_sin(x):\n",
    "    sin_approx = 0\n",
    "    t=x\n",
    "    n=1\n",
    "    while sin_approx+t!= sin_approx:\n",
    "        sin_approx=sin_approx+t\n",
    "        t=-(x**2)/((n+1)*(n+2))*t\n",
    "        n=n+2\n",
    "    print(\"n=\", n)\n",
    "    return sin_approx\n",
    "\n",
    "print(\"sin(pi/2)=\",func_sin(math.pi/2))\n",
    "\n",
    "print(\"sin(11pi/2)=\",func_sin(11*math.pi/2))\n",
    "\n",
    "print(\"sin(21pi/2)=\", func_sin(21*math.pi/2))\n",
    "\n",
    "\n",
    "print(\"sin(31pi/2)=\",func_sin(31*math.pi/2))"
   ]
  },
  {
   "cell_type": "markdown",
   "metadata": {},
   "source": [
    "Zašto smo dobili $\\ sin(\\frac{31\\pi}{2})$=−5822.01852702401?  \n",
    "\n",
    "Razmislite o tome nakon sljedećeg dijela predavanja!\n",
    "\n",
    "\n",
    "\n",
    "**Napomena** Radi potpunosti je stavljen i ovaj dio u prvo predavanje, premda ga ne bismo stigli do kraja obraditi u klasičnom predavanju! Stoga će predavanje za 2. tjedan iz numeričke matematike biti nešto kraće od 1. predavanja!"
   ]
  },
  {
   "cell_type": "code",
   "execution_count": 9,
   "metadata": {},
   "outputs": [
    {
     "data": {
      "text/html": [
       "\n",
       "        <iframe\n",
       "            width=\"400\"\n",
       "            height=\"300\"\n",
       "            src=\"https://www.youtube.com/embed/xJvJSjAJuyc \"\n",
       "            frameborder=\"0\"\n",
       "            allowfullscreen\n",
       "        ></iframe>\n",
       "        "
      ],
      "text/plain": [
       "<IPython.lib.display.YouTubeVideo at 0x1b68acd4518>"
      ]
     },
     "metadata": {},
     "output_type": "display_data"
    }
   ],
   "source": [
    "from IPython.lib.display import YouTubeVideo\n",
    "vid = YouTubeVideo(\"xJvJSjAJuyc \")\n",
    "display(vid)"
   ]
  },
  {
   "cell_type": "markdown",
   "metadata": {},
   "source": [
    "# Rješavanje kvadratne jednadžbe"
   ]
  },
  {
   "cell_type": "code",
   "execution_count": 10,
   "metadata": {},
   "outputs": [
    {
     "name": "stdout",
     "output_type": "stream",
     "text": [
      "Roots= [1.e+08 1.e-08]\n",
      "x1= 100000000.0\n",
      "x2= 7.450580596923828e-09\n"
     ]
    }
   ],
   "source": [
    "a=1.0\n",
    "c=1.0\n",
    "b=-(1.e+8+1.e-8)\n",
    "coeff= [a, b, c]\n",
    "print(\"Roots=\",np.roots(coeff))\n",
    "x1=(-b+np.sqrt(b**2-3*a*c))/(2*a)\n",
    "print(\"x1=\",x1)\n",
    "x2=(-b-np.sqrt(b**2-3*a*c))/(2*a)\n",
    "print(\"x2=\",x2)"
   ]
  },
  {
   "cell_type": "markdown",
   "metadata": {},
   "source": [
    "# Računanje $\\frac{\\ln(1+x)}{x}$\n",
    "\n",
    "Znamo $\\frac{\\ln(1+x)}{x}\\approx 1$ za $x\\approx 0$"
   ]
  },
  {
   "cell_type": "code",
   "execution_count": 11,
   "metadata": {},
   "outputs": [
    {
     "data": {
      "text/plain": [
       "0.7401486830834376"
      ]
     },
     "execution_count": 11,
     "metadata": {},
     "output_type": "execute_result"
    }
   ],
   "source": [
    "np.log(1+3e-16)/(3e-16)"
   ]
  },
  {
   "cell_type": "code",
   "execution_count": 12,
   "metadata": {},
   "outputs": [
    {
     "data": {
      "text/plain": [
       "0.9999999999999999"
      ]
     },
     "execution_count": 12,
     "metadata": {},
     "output_type": "execute_result"
    }
   ],
   "source": [
    "np.log(1+3e-16)/((1+3.e-16)-1)"
   ]
  },
  {
   "cell_type": "markdown",
   "metadata": {},
   "source": [
    "# Za one koji žele znati više: \n",
    "\n",
    "članak [link1](https://docs.oracle.com/cd/E19957-01/806-3568/ncg_goldberg.html)"
   ]
  },
  {
   "cell_type": "code",
   "execution_count": null,
   "metadata": {},
   "outputs": [],
   "source": []
  }
 ],
 "metadata": {
  "kernelspec": {
   "display_name": "Python 3",
   "language": "python",
   "name": "python3"
  },
  "language_info": {
   "codemirror_mode": {
    "name": "ipython",
    "version": 3
   },
   "file_extension": ".py",
   "mimetype": "text/x-python",
   "name": "python",
   "nbconvert_exporter": "python",
   "pygments_lexer": "ipython3",
   "version": "3.6.4"
  }
 },
 "nbformat": 4,
 "nbformat_minor": 2
}
